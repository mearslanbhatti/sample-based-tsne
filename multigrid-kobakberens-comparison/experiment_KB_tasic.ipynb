{
 "cells": [
  {
   "cell_type": "markdown",
   "id": "20d101b3",
   "metadata": {},
   "source": [
    "# Kobak and Berens implementation for tasic data\n",
    "\n",
    "Here, we will compare the sample based approach to Kobak and Berens approach"
   ]
  },
  {
   "cell_type": "code",
   "execution_count": 1,
   "id": "95d52433",
   "metadata": {},
   "outputs": [
    {
     "ename": "ModuleNotFoundError",
     "evalue": "No module named 'src'",
     "output_type": "error",
     "traceback": [
      "\u001b[1;31m---------------------------------------------------------------------------\u001b[0m",
      "\u001b[1;31mModuleNotFoundError\u001b[0m                       Traceback (most recent call last)",
      "Cell \u001b[1;32mIn[1], line 19\u001b[0m\n\u001b[0;32m     16\u001b[0m sns\u001b[38;5;241m.\u001b[39mset_style(\u001b[38;5;124m'\u001b[39m\u001b[38;5;124mticks\u001b[39m\u001b[38;5;124m'\u001b[39m)\n\u001b[0;32m     18\u001b[0m \u001b[38;5;28;01mfrom\u001b[39;00m\u001b[38;5;250m \u001b[39m\u001b[38;5;21;01mpathlib\u001b[39;00m\u001b[38;5;250m \u001b[39m\u001b[38;5;28;01mimport\u001b[39;00m Path\n\u001b[1;32m---> 19\u001b[0m \u001b[38;5;28;01mfrom\u001b[39;00m\u001b[38;5;250m \u001b[39m\u001b[38;5;21;01msrc\u001b[39;00m\u001b[38;5;21;01m.\u001b[39;00m\u001b[38;5;21;01mutils\u001b[39;00m\u001b[38;5;250m \u001b[39m\u001b[38;5;28;01mimport\u001b[39;00m rnaseqTools\n\u001b[0;32m     21\u001b[0m \u001b[38;5;66;03m# the path should point to the FIt-SNE directory\u001b[39;00m\n\u001b[0;32m     22\u001b[0m sys\u001b[38;5;241m.\u001b[39mpath\u001b[38;5;241m.\u001b[39mappend(\u001b[38;5;124m'\u001b[39m\u001b[38;5;124m../FIt-SNE\u001b[39m\u001b[38;5;124m'\u001b[39m)\n",
      "\u001b[1;31mModuleNotFoundError\u001b[0m: No module named 'src'"
     ]
    }
   ],
   "source": [
    "from time import time\n",
    "from datetime import datetime\n",
    "from pathlib import Path\n",
    "from sklearn.neighbors import NearestNeighbors\n",
    "from sklearn.decomposition import PCA\n",
    "from scipy import sparse\n",
    "\n",
    "import numpy as np\n",
    "import matplotlib.pyplot as plt\n",
    "import sys\n",
    "import seaborn as sns\n",
    "import pickle\n",
    "import pandas as pd\n",
    "import os\n",
    "\n",
    "sns.set_style('ticks')\n",
    "\n",
    "from pathlib import Path\n",
    "from src.utils import rnaseqTools\n",
    "\n",
    "# the path should point to the FIt-SNE directory\n",
    "sys.path.append('../FIt-SNE')\n",
    "from fast_tsne import fast_tsne"
   ]
  },
  {
   "cell_type": "markdown",
   "id": "73e91bfb",
   "metadata": {},
   "source": [
    "### Load data"
   ]
  },
  {
   "cell_type": "code",
   "execution_count": null,
   "id": "c86fa927",
   "metadata": {},
   "outputs": [
    {
     "name": "stdout",
     "output_type": "stream",
     "text": [
      "[tasic2018] Pickle found. Loading it.\n"
     ]
    }
   ],
   "source": [
    "# Set the path to your data directory\n",
    "data_root = Path(\"..\") / \"data\"\n",
    "path_to_data = Path(data_root)\n",
    "\n",
    "if path_to_data.joinpath(\"tasic2018.pickle\").exists():\n",
    "    print(\"[tasic2018] Pickle found. Loading it.\")\n",
    "    with open(str(path_to_data.joinpath(\"tasic2018.pickle\")), \"rb\") as f:\n",
    "        tasic2018 = pickle.load(f)\n",
    "else:\n",
    "\n",
    "    filename = path_to_data.joinpath(\"mouse_VISp_gene_expression_matrices_2018-06-14\",\n",
    "                                        \"mouse_VISp_2018-06-14_exon-matrix.csv\")\n",
    "    counts1, genes1, cells1 = rnaseqTools.sparseload(str(filename))\n",
    "\n",
    "    filename = path_to_data.joinpath(\"mouse_ALM_gene_expression_matrices_2018-06-14\",\n",
    "                                        \"mouse_ALM_2018-06-14_exon-matrix.csv\")\n",
    "    counts2, genes2, cells2 = rnaseqTools.sparseload(filename)\n",
    "\n",
    "    counts = sparse.vstack((counts1, counts2), format='csc')\n",
    "\n",
    "    cells = np.concatenate((cells1, cells2))\n",
    "\n",
    "    if np.all(genes1 == genes2):\n",
    "        genes = np.copy(genes1)\n",
    "\n",
    "    filename = path_to_data.joinpath(\"mouse_VISp_gene_expression_matrices_2018-06-14\",\n",
    "                                        \"mouse_VISp_2018-06-14_genes-rows.csv\")\n",
    "    genesDF = pd.read_csv(str(filename))\n",
    "    ids = genesDF['gene_entrez_id'].tolist()\n",
    "    symbols = genesDF['gene_symbol'].tolist()\n",
    "    id2symbol = dict(zip(ids, symbols))\n",
    "    genes = np.array([id2symbol[g] for g in genes])\n",
    "\n",
    "    filename = path_to_data.joinpath(\"tasic-sample_heatmap_plot_data.csv\")\n",
    "    clusterInfo = pd.read_csv(str(filename))\n",
    "    goodCells = clusterInfo['sample_name'].values\n",
    "    ids = clusterInfo['cluster_id'].values\n",
    "    labels = clusterInfo['cluster_label'].values\n",
    "    colors = clusterInfo['cluster_color'].values\n",
    "\n",
    "    clusterNames = np.array([labels[ids == i + 1][0] for i in range(np.max(ids))])\n",
    "    clusterColors = np.array([colors[ids == i + 1][0] for i in range(np.max(ids))])\n",
    "    clusters = np.copy(ids)\n",
    "\n",
    "    ind = np.array([np.where(cells == c)[0][0] for c in goodCells])\n",
    "    counts = counts[ind, :]\n",
    "\n",
    "    areas = (ind < cells1.size).astype(int)\n",
    "\n",
    "    clusters = clusters - 1\n",
    "\n",
    "    markerGenes = ['Snap25', 'Gad1', 'Slc17a7', 'Pvalb', 'Sst', 'Vip', 'Aqp4',\n",
    "                    'Mog', 'Itgam', 'Pdgfra', 'Flt1', 'Bgn', 'Rorb', 'Foxp2']\n",
    "\n",
    "    tasic2018 = {'counts': counts, 'genes': genes, 'clusters': clusters, 'areas': areas,\n",
    "                    'clusterColors': clusterColors, 'clusterNames': clusterNames}\n",
    "\n",
    "    tasic2018[\"importantGenesTasic2018\"] = rnaseqTools.geneSelection(\n",
    "        tasic2018['counts'], n=3000, threshold=32)\n",
    "\n",
    "    with open(str(path_to_data.joinpath(\"tasic2018.pickle\")), \"wb\") as f:\n",
    "        pickle.dump(tasic2018, f)\n",
    "\n",
    "    print(tasic2018['counts'].shape)\n",
    "    print(np.sum(tasic2018['areas'] == 0))\n",
    "    print(np.sum(tasic2018['areas'] == 1))\n",
    "    print(np.unique(tasic2018['clusters']).size)\n",
    "\n",
    "# librarySizes = np.sum(tasic2018['counts'], axis=1)\n",
    "# X = np.log2(tasic2018['counts'][:, tasic2018[\"importantGenesTasic2018\"]] / librarySizes * 1e+6 + 1)\n",
    "# X = np.array(X)\n",
    "# X = X - X.mean(axis=0)\n",
    "# U, s, V = np.linalg.svd(X, full_matrices=False)\n",
    "# U[:, np.sum(V, axis=1) < 0] *= -1\n",
    "# X = np.dot(U, np.diag(s))\n",
    "# X = X[:, np.argsort(s)[::-1]][:, :50]\n",
    "\n",
    "labels = tasic2018[\"clusters\"]\n",
    "\n",
    "librarySizes = np.sum(tasic2018['counts'], axis=1).A1  # .A1 flattens the sparse matrix sum\n",
    "counts_selected = tasic2018['counts'][:, tasic2018[\"importantGenesTasic2018\"]].toarray()\n",
    "norm_counts = (counts_selected.T / librarySizes).T * 1e6\n",
    "X = np.log2(norm_counts + 1)\n",
    "X = X - X.mean(axis=0)\n",
    "X_hd = X.copy()  # <--- This is your high-dimensional data\n",
    "\n",
    "# reduce dimensions\n",
    "U, s, V = np.linalg.svd(X, full_matrices=False)\n",
    "U[:, np.sum(V, axis=1) < 0] *= -1\n",
    "X = np.dot(U, np.diag(s))\n",
    "initial_embedding = X[:, np.argsort(s)[::-1]][:, :50]\n",
    "\n",
    "# --- Preprocessing: same as original ---\n",
    "# librarySizes = np.sum(tasic2018['counts'], axis=1).A1  # Flatten sparse matrix sum\n",
    "# counts_selected = tasic2018['counts'][:, tasic2018[\"importantGenesTasic2018\"]].toarray()\n",
    "# # Normalize: Counts per million (CPM)\n",
    "# norm_counts = (counts_selected.T / librarySizes).T * 1e6\n",
    "# # Log-transform\n",
    "# X = np.log2(norm_counts + 1)\n",
    "# # Center each gene (mean = 0 across cells)\n",
    "# X = X - X.mean(axis=0)\n",
    "# # --- PCA for dimensionality reduction ---\n",
    "# pca = PCA(n_components=50, random_state=42)\n",
    "# X_pca = pca.fit_transform(X)\n",
    "# # This X_pca can now be used as the initial embedding for t-SNE\n",
    "# initial_embedding = X_pca\n"
   ]
  },
  {
   "cell_type": "markdown",
   "id": "daabf581",
   "metadata": {},
   "source": [
    "### Plotting and Saving figure logic"
   ]
  },
  {
   "cell_type": "code",
   "execution_count": 7,
   "id": "5d6c87c1",
   "metadata": {},
   "outputs": [],
   "source": [
    "import matplotlib.pyplot as plt\n",
    "import seaborn as sns\n",
    "import numpy as np\n",
    "\n",
    "def plot_grid(embedding, quality, tasic2018, title=\"\", panel_letter=None):\n",
    "\n",
    "    colors = tasic2018[\"clusterColors\"][tasic2018[\"clusters\"]]\n",
    "    classes = {\n",
    "        'Lamp5': [-35, -12, 'Lamp5 Lsp1'],\n",
    "        'Vip':   [15, 30, 'Vip Rspo4 Rxfp1 Chat'],\n",
    "        'Pvalb': [-4, 32, 'Pvalb Reln Tac1'],\n",
    "        'Sst':   [-32, 18, 'Sst Myh8 Fibin'],\n",
    "        'L2/3 IT': [-30, -30, 'L2/3 IT ALM Sla'],\n",
    "        'L5 IT': [-10, -25, 'L5 IT ALM Tnc'],\n",
    "        'L6 IT': [6, -4, 'L6 IT VISp Penk Col27a1'],\n",
    "        'L5 PT': [23, -25, 'L5 PT ALM Hpgd'],\n",
    "        'L5 NP': [-23, -40, 'L5 NP VISp Trhr Cpne7'],\n",
    "        'L6 CT': [30, 12, 'L6 CT VISp Nxph2 Wls'],\n",
    "        'L6b':   [35, -11, 'L6b P2ry12'],\n",
    "        'Non-neurons': [20, -20, 'Astro Aqp4']\n",
    "    }\n",
    "\n",
    "    sns.set(style=\"white\")\n",
    "    fig = plt.figure(figsize=(4, 4))\n",
    "    ax = plt.gca()\n",
    "    ax.set_aspect('equal', adjustable='datalim')\n",
    "    ax.scatter(\n",
    "        embedding[:, 0], embedding[:, 1],\n",
    "        s=2, c=colors, edgecolor='none', rasterized=True\n",
    "    )\n",
    "\n",
    "    ax.set_title(title, va='center')\n",
    "    ax.text(0.75, .02, 'KNN:\\nKNC:\\nCPD:', transform=ax.transAxes, fontsize=9)\n",
    "    ax.text(0.87, .02, '{:.2f}\\n{:.2f}\\n{:.2f}'.format(*quality), transform=ax.transAxes, fontsize=9)\n",
    "    ax.text(0, 1.05, panel_letter, transform=ax.transAxes, fontsize=8, fontweight='bold')\n",
    "    ax.set_xticks([])\n",
    "    ax.set_yticks([])\n",
    "    sns.despine(ax=ax, left=True, bottom=True)\n",
    "\n",
    "    for c in classes:\n",
    "        x, y, cname = classes[c]\n",
    "        cluster_idx = np.where(tasic2018['clusterNames'] == cname)[0]\n",
    "        color = tasic2018['clusterColors'][cluster_idx[0]] if cluster_idx.size > 0 else 'black'\n",
    "        ax.text(x, y, c, fontsize=6, color=color)\n",
    "\n",
    "    plt.tight_layout()\n",
    "\n",
    "    plt.show()\n",
    "    return fig\n"
   ]
  },
  {
   "cell_type": "code",
   "execution_count": 8,
   "id": "14acba91",
   "metadata": {},
   "outputs": [],
   "source": [
    "def save_fig(figure, dataset_id, fname, overwrite=False):\n",
    "\n",
    "    # Get current date formatted as dd-mm-yy\n",
    "    folder_timestamp = datetime.now().strftime(\"%d-%m-%y\")\n",
    "\n",
    "    if dataset_id is not None:\n",
    "        figures_dir = Path.cwd() / \"figures\" / \"kobak-berens\" /dataset_id / folder_timestamp\n",
    "        figures_dir.mkdir(parents=True, exist_ok=True)\n",
    "    else:\n",
    "        # Default figures directory\n",
    "        figures_dir = Path.cwd() / \"figures\" / \"kobak-berens\" / \"default\"\n",
    "        figures_dir.mkdir(parents=True, exist_ok=True)\n",
    "\n",
    "    full_path = figures_dir / fname\n",
    "\n",
    "    if full_path.exists() and not overwrite:\n",
    "        print(f\"File already exists. Remove or rename {full_path} before continuing.\")\n",
    "    else:\n",
    "        figure.savefig(full_path)\n",
    "        print(f\"Figure saved to {full_path}\")"
   ]
  },
  {
   "cell_type": "markdown",
   "id": "8c700ff7",
   "metadata": {},
   "source": [
    "### Kobak and Berens implementation"
   ]
  },
  {
   "cell_type": "code",
   "execution_count": 9,
   "id": "031b75d8",
   "metadata": {},
   "outputs": [],
   "source": [
    "def kb_tsne(\n",
    "    initial_embedding,\n",
    "    rnd_state=42\n",
    "):\n",
    "    start = time()\n",
    "    n = initial_embedding.shape[0]\n",
    "    print(f\"Number of points in the dataset: {n}\")\n",
    "        \n",
    "    print(\"Dataset is small enough, running fast_tsne directly on the full dataset.\")\n",
    "    # Small dataset: combine perplexities [30, n/100]\n",
    "    perplist = [30]\n",
    "    if n / 100 > 30:\n",
    "        perplist.append(n / 100)\n",
    "    \n",
    "    search_k = int(3 * max(perplist) * 50)  # 50 is the default n_trees\n",
    "    pcaInit = initial_embedding[:,:2] / np.std(initial_embedding[:,0]) * 0.0001\n",
    "    \n",
    "    print(\"Applying fast_tsne for the small dataset with perplexities:\", perplist)\n",
    "    embedding = fast_tsne(\n",
    "        initial_embedding,\n",
    "        initialization=\"pca\",\n",
    "        perplexity=0,\n",
    "        perplexity_list=perplist,\n",
    "        search_k=search_k,\n",
    "        \n",
    "        early_exag_coeff=12,\n",
    "        stop_early_exag_iter=250,\n",
    "        max_iter=1000,\n",
    "        \n",
    "        learning_rate=\"auto\",\n",
    "        momentum=0.5,\n",
    "        final_momentum=0.8,\n",
    "        seed=rnd_state\n",
    "    )\n",
    "    print(\"DONE.\")\n",
    "    \n",
    "\n",
    "    print(f\"-> Total time for running kb_tsne took {(time() - start) / 60:.2f} minutes.\")\n",
    "    return embedding\n"
   ]
  },
  {
   "cell_type": "markdown",
   "id": "7ccb5c57",
   "metadata": {},
   "source": [
    "#### Embedding Quality method"
   ]
  },
  {
   "cell_type": "code",
   "execution_count": 10,
   "id": "aea14ff4",
   "metadata": {},
   "outputs": [],
   "source": [
    "from sklearn.neighbors import NearestNeighbors\n",
    "from scipy.spatial.distance import pdist\n",
    "from scipy.stats import spearmanr\n",
    "\n",
    "def embedding_quality(X, Z, classes, knn=10, knn_classes=4, subsetsize=1000):\n",
    "    # Local neighborhood preservation (kNN)\n",
    "    nbrs1 = NearestNeighbors(n_neighbors=knn).fit(X)\n",
    "    ind1 = nbrs1.kneighbors(return_distance=False)\n",
    "\n",
    "    nbrs2 = NearestNeighbors(n_neighbors=knn).fit(Z)\n",
    "    ind2 = nbrs2.kneighbors(return_distance=False)\n",
    "\n",
    "    intersections = 0.0\n",
    "    for i in range(X.shape[0]):\n",
    "        intersections += len(set(ind1[i]) & set(ind2[i]))\n",
    "    mnn = intersections / (X.shape[0] * knn)\n",
    "\n",
    "    # Global neighborhood consistency (KNC)\n",
    "    cl, cl_inv = np.unique(classes, return_inverse=True)\n",
    "    C = cl.size\n",
    "\n",
    "    mu1 = np.zeros((C, X.shape[1]))\n",
    "    mu2 = np.zeros((C, Z.shape[1]))\n",
    "    for c in range(C):\n",
    "        mu1[c, :] = np.mean(X[cl_inv == c, :], axis=0)\n",
    "        mu2[c, :] = np.mean(Z[cl_inv == c, :], axis=0)\n",
    "\n",
    "    knn_classes = min(knn_classes, max(1, C - 1))  # Prevent requesting more neighbors than class centers\n",
    "    nbrs1 = NearestNeighbors(n_neighbors=knn_classes).fit(mu1)\n",
    "    ind1 = nbrs1.kneighbors(return_distance=False)\n",
    "\n",
    "    nbrs2 = NearestNeighbors(n_neighbors=knn_classes).fit(mu2)\n",
    "    ind2 = nbrs2.kneighbors(return_distance=False)\n",
    "\n",
    "    intersections = 0.0\n",
    "    for i in range(C):\n",
    "        intersections += len(set(ind1[i]) & set(ind2[i]))\n",
    "    mnn_global = intersections / (C * knn_classes)\n",
    "\n",
    "    # Spearman correlation of pairwise distances (CPD)\n",
    "    subset = np.random.choice(X.shape[0], size=subsetsize, replace=False)\n",
    "    d1 = pdist(X[subset, :])\n",
    "    d2 = pdist(Z[subset, :])\n",
    "    rho = spearmanr(d1, d2).correlation\n",
    "\n",
    "    return mnn, mnn_global, rho"
   ]
  },
  {
   "cell_type": "markdown",
   "id": "91aed7d1",
   "metadata": {},
   "source": [
    "### Prepare experiment config"
   ]
  },
  {
   "cell_type": "code",
   "execution_count": 11,
   "id": "7dbd231f",
   "metadata": {},
   "outputs": [],
   "source": [
    "sample_rate = 0.1"
   ]
  },
  {
   "cell_type": "markdown",
   "id": "4dc49467",
   "metadata": {},
   "source": [
    "### Run kb_tsne"
   ]
  },
  {
   "cell_type": "code",
   "execution_count": 12,
   "id": "d828ef33",
   "metadata": {},
   "outputs": [
    {
     "name": "stdout",
     "output_type": "stream",
     "text": [
      "Running kb_tsne...\n",
      "Number of points in the dataset: 23822\n",
      "Dataset is small enough, running fast_tsne directly on the full dataset.\n",
      "Applying fast_tsne for the small dataset with perplexities: [30, 238.22]\n",
      "DONE.\n",
      "-> Total time for running kb_tsne took 1.05 minutes.\n",
      "finished running kb_tsne.\n"
     ]
    }
   ],
   "source": [
    "# Run kb_tsne\n",
    "print(\"Running kb_tsne...\")\n",
    "kb_output = kb_tsne(\n",
    "    initial_embedding=initial_embedding,\n",
    "    rnd_state=42,\n",
    ")\n",
    "\n",
    "final_embedding = kb_output\n",
    "print(\"finished running kb_tsne.\")"
   ]
  },
  {
   "cell_type": "markdown",
   "id": "55dbc707",
   "metadata": {},
   "source": [
    "### Calculate Embedding Qualities"
   ]
  },
  {
   "cell_type": "code",
   "execution_count": 13,
   "id": "fe777801",
   "metadata": {},
   "outputs": [
    {
     "name": "stdout",
     "output_type": "stream",
     "text": [
      "Quality metrics for kb_tsne: KNN=0.41, KNC=0.74, CPD=0.57\n"
     ]
    }
   ],
   "source": [
    "subset_size = 1000\n",
    "kb_mnn, kb_knc, kb_cpd = embedding_quality(\n",
    "    initial_embedding, final_embedding, labels, knn=10, knn_classes=4, subsetsize=subset_size\n",
    ")\n",
    "print(f\"Quality metrics for kb_tsne: KNN={kb_mnn:.2f}, KNC={kb_knc:.2f}, CPD={kb_cpd:.2f}\")"
   ]
  },
  {
   "cell_type": "markdown",
   "id": "1e30741d",
   "metadata": {},
   "source": [
    "### Plot And Save"
   ]
  },
  {
   "cell_type": "code",
   "execution_count": 14,
   "id": "72330242",
   "metadata": {},
   "outputs": [
    {
     "data": {
      "image/png": "[encoded data removed]",
      "text/plain": [
       "<Figure size 400x400 with 1 Axes>"
      ]
     },
     "metadata": {},
     "output_type": "display_data"
    },
    {
     "name": "stdout",
     "output_type": "stream",
     "text": [
      "Figure saved to c:\\Users\\arsla\\my_files\\research_project\\mg-emb-exps-main-KB-3\\mg-emb-exps-main-KB\\multigrid-kobakberens-comparison\\figures\\kobak-berens\\tasic\\23-06-25\\tasic_~_05-46-17.png\n"
     ]
    }
   ],
   "source": [
    "quality = (kb_mnn, kb_knc, kb_cpd)\n",
    "figure = plot_grid(final_embedding, quality, tasic2018, panel_letter=None)\n",
    "\n",
    "# save the figure\n",
    "file_name_timestamp = datetime.now().strftime(\"%H-%M-%S\")\n",
    "filename = f\"tasic_~_{file_name_timestamp}.png\"\n",
    "save_fig(figure, \"tasic\", filename, overwrite=True)"
   ]
  },
  {
   "cell_type": "code",
   "execution_count": null,
   "id": "13a2a2af",
   "metadata": {},
   "outputs": [],
   "source": []
  }
 ],
 "metadata": {
  "kernelspec": {
   "display_name": "mg-emb-exps-kb",
   "language": "python",
   "name": "python3"
  },
  "language_info": {
   "codemirror_mode": {
    "name": "ipython",
    "version": 3
   },
   "file_extension": ".py",
   "mimetype": "text/x-python",
   "name": "python",
   "nbconvert_exporter": "python",
   "pygments_lexer": "ipython3",
   "version": "3.10.17"
  }
 },
 "nbformat": 4,
 "nbformat_minor": 5
}
